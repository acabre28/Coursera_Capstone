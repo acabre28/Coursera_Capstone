{
 "cells": [
  {
   "cell_type": "markdown",
   "metadata": {
    "collapsed": true
   },
   "source": [
    "### Introduction "
   ]
  },
  {
   "cell_type": "markdown",
   "metadata": {},
   "source": [
    "A recent university graduate has decided to move from Miami, Florida to Toronto, Canada and open a Cuban restaurant.  In Miami, 54% of the city's population is Cuban, which helps explain the popularity of the many Cuban restaurants in the area.  Unfortunately for a new business owner, opening a restaurant where the menu items are already popular may have its challenges and could cause the business to be unsuccessful very early on.  The graduate decides to take a leap of faith and move to Canada in hope of success, where the third largest Cuban immigrant community resides.  The following factors will have to be evaluated in order to do well: location and demographic of location, price of menu items, and surrounding competition.  "
   ]
  },
  {
   "cell_type": "markdown",
   "metadata": {},
   "source": [
    "### Business Problem"
   ]
  },
  {
   "cell_type": "markdown",
   "metadata": {},
   "source": [
    "In which neighborhood of Toronto should the graduate open their Cuban restaurant?"
   ]
  },
  {
   "cell_type": "code",
   "execution_count": null,
   "metadata": {},
   "outputs": [],
   "source": []
  }
 ],
 "metadata": {
  "kernelspec": {
   "display_name": "Python 3.6",
   "language": "python",
   "name": "python3"
  },
  "language_info": {
   "codemirror_mode": {
    "name": "ipython",
    "version": 3
   },
   "file_extension": ".py",
   "mimetype": "text/x-python",
   "name": "python",
   "nbconvert_exporter": "python",
   "pygments_lexer": "ipython3",
   "version": "3.6.9"
  }
 },
 "nbformat": 4,
 "nbformat_minor": 1
}
